{
 "cells": [
  {
   "cell_type": "markdown",
   "metadata": {},
   "source": [
    "\n",
    "# <span style=\"color: blue;\"> Predicción de estructuras moleculares con Redes Neuronales de grafos(Chemical Graph Neural Networks). Parte I</span>\n"
   ]
  },
  {
   "cell_type": "markdown",
   "metadata": {},
   "source": [
    "## 1. Representación computacional de los átomos y moléculas"
   ]
  },
  {
   "cell_type": "markdown",
   "metadata": {},
   "source": [
    "\n",
    "\n",
    "\n",
    "<img src=\"molecules3.png\" width=\"800\" class=\"center\"> "
   ]
  },
  {
   "cell_type": "markdown",
   "metadata": {},
   "source": [
    "\n",
    "<table>\n",
    "<tr>\n",
    "    <td> <img src=\"smiles.png\" width=\"300\"> </td>\n",
    "    <td> <img src=\"fingerprint.png\" width=\"300\">  </td>\n",
    "</tr>\n",
    "<tr>\n",
    "   <td style='text-align:center'> Smiles </td>\n",
    "    <td style='text-align:center'> Morgan fingerprint </td>\n",
    "</tr>\n",
    "</table>    \n",
    "\n",
    "\n",
    "\n",
    "\n"
   ]
  },
  {
   "cell_type": "markdown",
   "metadata": {},
   "source": [
    "## 2. Uso de Rdkit en la obtención de propiedades moleculares\n",
    "\n",
    "Mucha de la información nesesaria para hacer análisis de datos aplicado a la química requiere de propiedades moleculares como número de enlaces, electrones de valencia, entre otras. En esta primera parte del taller veremos como usar rdkit para leer moléculas y obtener algunas de sus propiedades moleculares.\n",
    "\n",
    "1. ¿Que es rdkit?\n",
    "2. ¿Qué puedo hacer?"
   ]
  },
  {
   "cell_type": "markdown",
   "metadata": {},
   "source": [
    "### Cargando librerias"
   ]
  },
  {
   "cell_type": "code",
   "execution_count": 3,
   "metadata": {},
   "outputs": [],
   "source": [
    "!pip install rdkit-pypi\n",
    "!pip install pandas\n",
    "!pip install seaborn\n",
    "\n",
    "# Data Science \n",
    "# ==============================================================================\n",
    "import pandas as pd\n",
    "import numpy as np\n",
    "\n",
    "\n",
    "# Rdkit import for molecular features\n",
    "# ==============================================================================\n",
    "import rdkit\n",
    "from rdkit.Chem import Descriptors\n",
    "from rdkit import Chem\n",
    "from rdkit.Chem import rdmolops\n",
    "from rdkit.Chem import ChemicalFeatures\n",
    "from rdkit.Chem.Draw import IPythonConsole\n",
    "from rdkit.Chem import Draw\n",
    "\n",
    "\n",
    "\n",
    "\n",
    "# Ploting \n",
    "# ==============================================================================\n",
    "import matplotlib.pyplot as plt\n",
    "import seaborn as sns\n",
    "\n"
   ]
  },
  {
   "cell_type": "markdown",
   "metadata": {},
   "source": [
    "### Leyendo conjunto de datos y sanitizando smiles"
   ]
  },
  {
   "cell_type": "code",
   "execution_count": 1,
   "metadata": {},
   "outputs": [
    {
     "ename": "NameError",
     "evalue": "name 'pd' is not defined",
     "output_type": "error",
     "traceback": [
      "\u001b[0;31m---------------------------------------------------------------------------\u001b[0m",
      "\u001b[0;31mNameError\u001b[0m                                 Traceback (most recent call last)",
      "\u001b[0;32m<ipython-input-1-fa49c0c35138>\u001b[0m in \u001b[0;36m<module>\u001b[0;34m\u001b[0m\n\u001b[0;32m----> 1\u001b[0;31m \u001b[0mdf\u001b[0m \u001b[0;34m=\u001b[0m \u001b[0mpd\u001b[0m\u001b[0;34m.\u001b[0m\u001b[0mread_csv\u001b[0m\u001b[0;34m(\u001b[0m\u001b[0;34m'https://raw.githubusercontent.com/joana20-source/grafos/main/delaney.csv'\u001b[0m\u001b[0;34m)\u001b[0m\u001b[0;34m\u001b[0m\u001b[0;34m\u001b[0m\u001b[0m\n\u001b[0m\u001b[1;32m      2\u001b[0m \u001b[0mdf\u001b[0m\u001b[0;34m\u001b[0m\u001b[0;34m\u001b[0m\u001b[0m\n",
      "\u001b[0;31mNameError\u001b[0m: name 'pd' is not defined"
     ]
    }
   ],
   "source": [
    "df = pd.read_csv('https://raw.githubusercontent.com/joana20-source/grafos/main/delaney.csv')\n",
    "df"
   ]
  },
  {
   "cell_type": "code",
   "execution_count": 3,
   "metadata": {},
   "outputs": [],
   "source": [
    "#Función sanitizadora: \n",
    "\n",
    "def validate_smiles (smiles):\n",
    "   \n",
    "    mol = Chem.MolFromSmiles(smiles)\n",
    "   \n",
    "    if mol:\n",
    "   \n",
    "            #  GetMolFrags checks wether we have more than one molecule\n",
    "            if len(rdmolops.GetMolFrags(mol)) > 1:\n",
    "                return False\n",
    "            try:\n",
    "                #  Sanitization check valence (detects invalid values)\n",
    "                rdmolops.SanitizeMol(mol)\n",
    "                return True\n",
    "            except ValueError:\n",
    "                return False\n",
    "    else:\n",
    "        return False"
   ]
  },
  {
   "cell_type": "code",
   "execution_count": 4,
   "metadata": {},
   "outputs": [
    {
     "data": {
      "text/html": [
       "<div>\n",
       "<style scoped>\n",
       "    .dataframe tbody tr th:only-of-type {\n",
       "        vertical-align: middle;\n",
       "    }\n",
       "\n",
       "    .dataframe tbody tr th {\n",
       "        vertical-align: top;\n",
       "    }\n",
       "\n",
       "    .dataframe thead th {\n",
       "        text-align: right;\n",
       "    }\n",
       "</style>\n",
       "<table border=\"1\" class=\"dataframe\">\n",
       "  <thead>\n",
       "    <tr style=\"text-align: right;\">\n",
       "      <th></th>\n",
       "      <th>smiles</th>\n",
       "      <th>validate smiles</th>\n",
       "    </tr>\n",
       "  </thead>\n",
       "  <tbody>\n",
       "    <tr>\n",
       "      <th>count</th>\n",
       "      <td>1128</td>\n",
       "      <td>1128</td>\n",
       "    </tr>\n",
       "    <tr>\n",
       "      <th>unique</th>\n",
       "      <td>1123</td>\n",
       "      <td>1</td>\n",
       "    </tr>\n",
       "    <tr>\n",
       "      <th>top</th>\n",
       "      <td>ClC(Cl)C(c1ccc(Cl)cc1)c2ccc(Cl)cc2</td>\n",
       "      <td>True</td>\n",
       "    </tr>\n",
       "    <tr>\n",
       "      <th>freq</th>\n",
       "      <td>2</td>\n",
       "      <td>1128</td>\n",
       "    </tr>\n",
       "  </tbody>\n",
       "</table>\n",
       "</div>"
      ],
      "text/plain": [
       "                                    smiles validate smiles\n",
       "count                                 1128            1128\n",
       "unique                                1123               1\n",
       "top     ClC(Cl)C(c1ccc(Cl)cc1)c2ccc(Cl)cc2            True\n",
       "freq                                     2            1128"
      ]
     },
     "execution_count": 4,
     "metadata": {},
     "output_type": "execute_result"
    }
   ],
   "source": [
    "df['validate smiles'] = df['smiles'].apply(validate_smiles)\n",
    "df.describe()"
   ]
  },
  {
   "cell_type": "code",
   "execution_count": 5,
   "metadata": {},
   "outputs": [
    {
     "data": {
      "text/html": [
       "<div>\n",
       "<style scoped>\n",
       "    .dataframe tbody tr th:only-of-type {\n",
       "        vertical-align: middle;\n",
       "    }\n",
       "\n",
       "    .dataframe tbody tr th {\n",
       "        vertical-align: top;\n",
       "    }\n",
       "\n",
       "    .dataframe thead th {\n",
       "        text-align: right;\n",
       "    }\n",
       "</style>\n",
       "<table border=\"1\" class=\"dataframe\">\n",
       "  <thead>\n",
       "    <tr style=\"text-align: right;\">\n",
       "      <th></th>\n",
       "      <th>smiles</th>\n",
       "      <th>validate smiles</th>\n",
       "    </tr>\n",
       "  </thead>\n",
       "  <tbody>\n",
       "    <tr>\n",
       "      <th>0</th>\n",
       "      <td>OCC3OC(OCC2OC(OC(C#N)c1ccccc1)C(O)C(O)C2O)C(O)...</td>\n",
       "      <td>True</td>\n",
       "    </tr>\n",
       "    <tr>\n",
       "      <th>1</th>\n",
       "      <td>Cc1occc1C(=O)Nc2ccccc2</td>\n",
       "      <td>True</td>\n",
       "    </tr>\n",
       "    <tr>\n",
       "      <th>2</th>\n",
       "      <td>CC(C)=CCCC(C)=CC(=O)</td>\n",
       "      <td>True</td>\n",
       "    </tr>\n",
       "    <tr>\n",
       "      <th>3</th>\n",
       "      <td>c1ccc2c(c1)ccc3c2ccc4c5ccccc5ccc43</td>\n",
       "      <td>True</td>\n",
       "    </tr>\n",
       "    <tr>\n",
       "      <th>4</th>\n",
       "      <td>c1ccsc1</td>\n",
       "      <td>True</td>\n",
       "    </tr>\n",
       "    <tr>\n",
       "      <th>...</th>\n",
       "      <td>...</td>\n",
       "      <td>...</td>\n",
       "    </tr>\n",
       "    <tr>\n",
       "      <th>1123</th>\n",
       "      <td>FC(F)(F)C(Cl)Br</td>\n",
       "      <td>True</td>\n",
       "    </tr>\n",
       "    <tr>\n",
       "      <th>1124</th>\n",
       "      <td>CNC(=O)ON=C(SC)C(=O)N(C)C</td>\n",
       "      <td>True</td>\n",
       "    </tr>\n",
       "    <tr>\n",
       "      <th>1125</th>\n",
       "      <td>CCSCCSP(=S)(OC)OC</td>\n",
       "      <td>True</td>\n",
       "    </tr>\n",
       "    <tr>\n",
       "      <th>1126</th>\n",
       "      <td>CCC(C)C</td>\n",
       "      <td>True</td>\n",
       "    </tr>\n",
       "    <tr>\n",
       "      <th>1127</th>\n",
       "      <td>COP(=O)(OC)OC(=CCl)c1cc(Cl)c(Cl)cc1Cl</td>\n",
       "      <td>True</td>\n",
       "    </tr>\n",
       "  </tbody>\n",
       "</table>\n",
       "<p>1128 rows × 2 columns</p>\n",
       "</div>"
      ],
      "text/plain": [
       "                                                 smiles  validate smiles\n",
       "0     OCC3OC(OCC2OC(OC(C#N)c1ccccc1)C(O)C(O)C2O)C(O)...             True\n",
       "1                                Cc1occc1C(=O)Nc2ccccc2             True\n",
       "2                                  CC(C)=CCCC(C)=CC(=O)             True\n",
       "3                    c1ccc2c(c1)ccc3c2ccc4c5ccccc5ccc43             True\n",
       "4                                               c1ccsc1             True\n",
       "...                                                 ...              ...\n",
       "1123                                    FC(F)(F)C(Cl)Br             True\n",
       "1124                          CNC(=O)ON=C(SC)C(=O)N(C)C             True\n",
       "1125                                  CCSCCSP(=S)(OC)OC             True\n",
       "1126                                            CCC(C)C             True\n",
       "1127              COP(=O)(OC)OC(=CCl)c1cc(Cl)c(Cl)cc1Cl             True\n",
       "\n",
       "[1128 rows x 2 columns]"
      ]
     },
     "execution_count": 5,
     "metadata": {},
     "output_type": "execute_result"
    }
   ],
   "source": [
    "######nuevo dataframe con los smiles leídos correctamente######\n",
    "data_clean = df[df['validate smiles']==True]\n",
    "data_clean\n"
   ]
  },
  {
   "cell_type": "markdown",
   "metadata": {},
   "source": [
    "## Propiedades moleculares"
   ]
  },
  {
   "cell_type": "code",
   "execution_count": 6,
   "metadata": {},
   "outputs": [
    {
     "data": {
      "text/html": [
       "<div>\n",
       "<style scoped>\n",
       "    .dataframe tbody tr th:only-of-type {\n",
       "        vertical-align: middle;\n",
       "    }\n",
       "\n",
       "    .dataframe tbody tr th {\n",
       "        vertical-align: top;\n",
       "    }\n",
       "\n",
       "    .dataframe thead th {\n",
       "        text-align: right;\n",
       "    }\n",
       "</style>\n",
       "<table border=\"1\" class=\"dataframe\">\n",
       "  <thead>\n",
       "    <tr style=\"text-align: right;\">\n",
       "      <th></th>\n",
       "      <th>smiles</th>\n",
       "      <th>validate smiles</th>\n",
       "      <th>mol</th>\n",
       "    </tr>\n",
       "  </thead>\n",
       "  <tbody>\n",
       "    <tr>\n",
       "      <th>0</th>\n",
       "      <td>OCC3OC(OCC2OC(OC(C#N)c1ccccc1)C(O)C(O)C2O)C(O)...</td>\n",
       "      <td>True</td>\n",
       "      <td>&lt;rdkit.Chem.rdchem.Mol object at 0x7f771d7dbc60&gt;</td>\n",
       "    </tr>\n",
       "    <tr>\n",
       "      <th>1</th>\n",
       "      <td>Cc1occc1C(=O)Nc2ccccc2</td>\n",
       "      <td>True</td>\n",
       "      <td>&lt;rdkit.Chem.rdchem.Mol object at 0x7f771d7dbcb0&gt;</td>\n",
       "    </tr>\n",
       "    <tr>\n",
       "      <th>2</th>\n",
       "      <td>CC(C)=CCCC(C)=CC(=O)</td>\n",
       "      <td>True</td>\n",
       "      <td>&lt;rdkit.Chem.rdchem.Mol object at 0x7f771d7dbad0&gt;</td>\n",
       "    </tr>\n",
       "    <tr>\n",
       "      <th>3</th>\n",
       "      <td>c1ccc2c(c1)ccc3c2ccc4c5ccccc5ccc43</td>\n",
       "      <td>True</td>\n",
       "      <td>&lt;rdkit.Chem.rdchem.Mol object at 0x7f771d7dbc10&gt;</td>\n",
       "    </tr>\n",
       "    <tr>\n",
       "      <th>4</th>\n",
       "      <td>c1ccsc1</td>\n",
       "      <td>True</td>\n",
       "      <td>&lt;rdkit.Chem.rdchem.Mol object at 0x7f771d7dbd50&gt;</td>\n",
       "    </tr>\n",
       "  </tbody>\n",
       "</table>\n",
       "</div>"
      ],
      "text/plain": [
       "                                              smiles  validate smiles  \\\n",
       "0  OCC3OC(OCC2OC(OC(C#N)c1ccccc1)C(O)C(O)C2O)C(O)...             True   \n",
       "1                             Cc1occc1C(=O)Nc2ccccc2             True   \n",
       "2                               CC(C)=CCCC(C)=CC(=O)             True   \n",
       "3                 c1ccc2c(c1)ccc3c2ccc4c5ccccc5ccc43             True   \n",
       "4                                            c1ccsc1             True   \n",
       "\n",
       "                                                mol  \n",
       "0  <rdkit.Chem.rdchem.Mol object at 0x7f771d7dbc60>  \n",
       "1  <rdkit.Chem.rdchem.Mol object at 0x7f771d7dbcb0>  \n",
       "2  <rdkit.Chem.rdchem.Mol object at 0x7f771d7dbad0>  \n",
       "3  <rdkit.Chem.rdchem.Mol object at 0x7f771d7dbc10>  \n",
       "4  <rdkit.Chem.rdchem.Mol object at 0x7f771d7dbd50>  "
      ]
     },
     "execution_count": 6,
     "metadata": {},
     "output_type": "execute_result"
    }
   ],
   "source": [
    "#Leyendo y obteniendo moleculas de los smiles con rdkit\n",
    "\n",
    "data_clean['mol'] = data_clean['smiles'].apply(rdkit.Chem.MolFromSmiles)\n",
    "data_clean.head()\n"
   ]
  },
  {
   "cell_type": "code",
   "execution_count": 7,
   "metadata": {},
   "outputs": [
    {
     "data": {
      "image/png": "[encoded data removed]",
      "text/plain": [
       "<rdkit.Chem.rdchem.Mol at 0x7f771d7740d0>"
      ]
     },
     "execution_count": 7,
     "metadata": {},
     "output_type": "execute_result"
    }
   ],
   "source": [
    "data_clean.loc[1127,'mol']"
   ]
  },
  {
   "cell_type": "code",
   "execution_count": 8,
   "metadata": {},
   "outputs": [],
   "source": [
    "#Definiendo propiedades moleculares\n",
    "\n",
    "def average_Molecular_Weight(mol):\n",
    "    return Descriptors.MolWt(mol)\n",
    "\n",
    "def alogp(mol):\n",
    "    return Descriptors.MolLogP(mol)\n",
    "\n",
    "def num_conformers(mol):\n",
    "    return mol.GetNumConformers()\n",
    "\n",
    "def number_Aromatic_Atoms(mol):\n",
    "    return sum([1 for _ in mol.GetAromaticAtoms()])\n",
    "\n",
    "def number_Conjugated_bonds(mol):\n",
    "        return sum([1 for bond in mol.GetBonds() if (bond.GetIsConjugated() and not bond.IsInRing())])\n",
    "\n"
   ]
  },
  {
   "cell_type": "code",
   "execution_count": 9,
   "metadata": {},
   "outputs": [
    {
     "data": {
      "text/html": [
       "<div>\n",
       "<style scoped>\n",
       "    .dataframe tbody tr th:only-of-type {\n",
       "        vertical-align: middle;\n",
       "    }\n",
       "\n",
       "    .dataframe tbody tr th {\n",
       "        vertical-align: top;\n",
       "    }\n",
       "\n",
       "    .dataframe thead th {\n",
       "        text-align: right;\n",
       "    }\n",
       "</style>\n",
       "<table border=\"1\" class=\"dataframe\">\n",
       "  <thead>\n",
       "    <tr style=\"text-align: right;\">\n",
       "      <th></th>\n",
       "      <th>smiles</th>\n",
       "      <th>validate smiles</th>\n",
       "      <th>mol</th>\n",
       "      <th>molecular weight</th>\n",
       "      <th>ALogP</th>\n",
       "      <th>No aromatic atoms</th>\n",
       "      <th>Number of Valence Electrons</th>\n",
       "      <th>Number of Conjugated Bonds</th>\n",
       "    </tr>\n",
       "  </thead>\n",
       "  <tbody>\n",
       "    <tr>\n",
       "      <th>0</th>\n",
       "      <td>OCC3OC(OCC2OC(OC(C#N)c1ccccc1)C(O)C(O)C2O)C(O)...</td>\n",
       "      <td>True</td>\n",
       "      <td>&lt;rdkit.Chem.rdchem.Mol object at 0x7f771d7dbc60&gt;</td>\n",
       "      <td>457.432</td>\n",
       "      <td>-3.10802</td>\n",
       "      <td>6</td>\n",
       "      <td>178</td>\n",
       "      <td>0</td>\n",
       "    </tr>\n",
       "    <tr>\n",
       "      <th>1</th>\n",
       "      <td>Cc1occc1C(=O)Nc2ccccc2</td>\n",
       "      <td>True</td>\n",
       "      <td>&lt;rdkit.Chem.rdchem.Mol object at 0x7f771d7dbcb0&gt;</td>\n",
       "      <td>201.225</td>\n",
       "      <td>2.84032</td>\n",
       "      <td>11</td>\n",
       "      <td>76</td>\n",
       "      <td>4</td>\n",
       "    </tr>\n",
       "    <tr>\n",
       "      <th>2</th>\n",
       "      <td>CC(C)=CCCC(C)=CC(=O)</td>\n",
       "      <td>True</td>\n",
       "      <td>&lt;rdkit.Chem.rdchem.Mol object at 0x7f771d7dbad0&gt;</td>\n",
       "      <td>152.237</td>\n",
       "      <td>2.87800</td>\n",
       "      <td>0</td>\n",
       "      <td>62</td>\n",
       "      <td>3</td>\n",
       "    </tr>\n",
       "    <tr>\n",
       "      <th>3</th>\n",
       "      <td>c1ccc2c(c1)ccc3c2ccc4c5ccccc5ccc43</td>\n",
       "      <td>True</td>\n",
       "      <td>&lt;rdkit.Chem.rdchem.Mol object at 0x7f771d7dbc10&gt;</td>\n",
       "      <td>278.354</td>\n",
       "      <td>6.29940</td>\n",
       "      <td>22</td>\n",
       "      <td>102</td>\n",
       "      <td>0</td>\n",
       "    </tr>\n",
       "    <tr>\n",
       "      <th>4</th>\n",
       "      <td>c1ccsc1</td>\n",
       "      <td>True</td>\n",
       "      <td>&lt;rdkit.Chem.rdchem.Mol object at 0x7f771d7dbd50&gt;</td>\n",
       "      <td>84.143</td>\n",
       "      <td>1.74810</td>\n",
       "      <td>5</td>\n",
       "      <td>26</td>\n",
       "      <td>0</td>\n",
       "    </tr>\n",
       "  </tbody>\n",
       "</table>\n",
       "</div>"
      ],
      "text/plain": [
       "                                              smiles  validate smiles  \\\n",
       "0  OCC3OC(OCC2OC(OC(C#N)c1ccccc1)C(O)C(O)C2O)C(O)...             True   \n",
       "1                             Cc1occc1C(=O)Nc2ccccc2             True   \n",
       "2                               CC(C)=CCCC(C)=CC(=O)             True   \n",
       "3                 c1ccc2c(c1)ccc3c2ccc4c5ccccc5ccc43             True   \n",
       "4                                            c1ccsc1             True   \n",
       "\n",
       "                                                mol  molecular weight  \\\n",
       "0  <rdkit.Chem.rdchem.Mol object at 0x7f771d7dbc60>           457.432   \n",
       "1  <rdkit.Chem.rdchem.Mol object at 0x7f771d7dbcb0>           201.225   \n",
       "2  <rdkit.Chem.rdchem.Mol object at 0x7f771d7dbad0>           152.237   \n",
       "3  <rdkit.Chem.rdchem.Mol object at 0x7f771d7dbc10>           278.354   \n",
       "4  <rdkit.Chem.rdchem.Mol object at 0x7f771d7dbd50>            84.143   \n",
       "\n",
       "     ALogP  No aromatic atoms  Number of Valence Electrons  \\\n",
       "0 -3.10802                  6                          178   \n",
       "1  2.84032                 11                           76   \n",
       "2  2.87800                  0                           62   \n",
       "3  6.29940                 22                          102   \n",
       "4  1.74810                  5                           26   \n",
       "\n",
       "   Number of Conjugated Bonds  \n",
       "0                           0  \n",
       "1                           4  \n",
       "2                           3  \n",
       "3                           0  \n",
       "4                           0  "
      ]
     },
     "execution_count": 9,
     "metadata": {},
     "output_type": "execute_result"
    }
   ],
   "source": [
    "data_clean['molecular weight'] = data_clean['mol'].apply(average_Molecular_Weight)\n",
    "data_clean['ALogP'] = data_clean['mol'].apply(alogp)\n",
    "data_clean['No aromatic atoms'] = data_clean['mol'].apply(number_Aromatic_Atoms)\n",
    "data_clean['Number of Valence Electrons'] = data_clean['mol'].apply(rdkit.Chem.Descriptors.NumValenceElectrons)\n",
    "data_clean['Number of Conjugated Bonds'] = data_clean['mol'].apply(number_Conjugated_bonds)\n",
    "data_clean.head()"
   ]
  },
  {
   "cell_type": "markdown",
   "metadata": {},
   "source": [
    "## Visualización de propiedades moleculares"
   ]
  },
  {
   "cell_type": "code",
   "execution_count": 10,
   "metadata": {},
   "outputs": [
    {
     "data": {
      "image/png": "[encoded data removed]",
      "text/plain": [
       "<Figure size 1080x360 with 4 Axes>"
      ]
     },
     "metadata": {
      "needs_background": "light"
     },
     "output_type": "display_data"
    }
   ],
   "source": [
    "# Here we show the relationship that exist beetwenn our tarhet variablle and the independent variables\n",
    "# ==============================================================================\n",
    "sns.set_context(\"paper\")\n",
    "pairplot = sns.pairplot(data_clean,\n",
    "             x_vars=['molecular weight','No aromatic atoms',\n",
    "                     'Number of Valence Electrons','Number of Conjugated Bonds'],\n",
    "             y_vars=['ALogP'],\n",
    "             hue='ALogP',\n",
    "             palette='rainbow')\n",
    "\n",
    "pairplot.fig.set_figheight(5)\n",
    "pairplot.fig.set_figwidth(15)\n",
    "\n",
    "\n",
    "plt.show()"
   ]
  },
  {
   "cell_type": "markdown",
   "metadata": {},
   "source": [
    "<table>\n",
    "<tr>\n",
    "    <td> <img src=\"balanza.jpg\" width=\"150\"> </td>\n",
    "    <td> <img src=\"acetato.jpg\" width=\"300\">  </td>\n",
    "    <td> <img src=\"valence.jpg\" width=\"300\">  </td>\n",
    "    <td> <img src=\"benceno.png\" width=\"150\">  </td>\n",
    "</tr>\n",
    "<tr>\n",
    "    <td>  </td>\n",
    "    <td style='text-align:center'> Acetato de isoamilo </td>\n",
    "    <td>   </td>\n",
    "    <td>   </td> \n",
    "</tr>\n",
    "</table>    "
   ]
  },
  {
   "cell_type": "markdown",
   "metadata": {},
   "source": [
    "<h3 style=\"color:purple\";> Ejercicio: Obtener el número de enlaces rotables (NumRotableBonds) y número de donantes de enlaces hidrógeno (NumHDonors). </h3>"
   ]
  },
  {
   "cell_type": "markdown",
   "metadata": {},
   "source": [
    "# 2.  ¿Qué son los grafos?"
   ]
  },
  {
   "cell_type": "markdown",
   "metadata": {},
   "source": [
    "Un grafo G consta de un conjunto no vació finito de V(G) de elementos llamados vértices y una familia finita E(G) de pares de elementos desordenados (no necesariamente distintos) llamados aristas.\n",
    "\n",
    "<img src=\"grafosnames2.png\" width=\"400\">"
   ]
  },
  {
   "cell_type": "markdown",
   "metadata": {},
   "source": [
    "<h3 style=\"color:purple\";> Ejercicio: Indica el número de vértices, aristas y grado de cada vértice en las siguientes figuras. </h3>\n",
    "\n",
    "\n",
    "<table>\n",
    "<tr>\n",
    "    <td> <img src=\"fig1.3.png\" width=\"280\"> </td>\n",
    "    <td> <img src=\"fig1.14.png\" width=\"200\">  </td>\n",
    "</tr>\n",
    "<tr>\n",
    "   <td style='text-align:center'> a) </td>\n",
    "    <td style='text-align:center'> b) </td>\n",
    "</tr>\n",
    "</table>    \n",
    "\n",
    "\n"
   ]
  },
  {
   "cell_type": "markdown",
   "metadata": {},
   "source": [
    "## Tipos de grafos"
   ]
  },
  {
   "cell_type": "markdown",
   "metadata": {},
   "source": [
    "## Grafos dirigidos y no dirigidos\n",
    "\n",
    "Las aristas tienen un sentido, normalmente representado por flechas. En los grafos no dirigidos las aristas se conectan a los vértices en ambos sentidos \n",
    " \n",
    " <img src=\"directed_undirected.png\" width=\"500\">\n",
    "\n",
    "\n",
    "## Grafos platónicos\n",
    "Formados a partir de los vértices y aristas de cinco sólidos regulares (platónico): el tetraedro, octaedro, cubo, icosaedro y dodecaedro.\n",
    "\n",
    "<img src=\"platonic_graphs.png\" width=\"500\">\n",
    "\n",
    "<table>\n",
    "<tr>\n",
    "    <td> <img src=\"metano.png\" width=\"150\"> </td>\n",
    "    <td> <img src=\"nacl.jpeg\" width=\"250\">  </td>\n",
    "</tr>\n",
    "</table>    \n",
    "\n",
    "## Grafos etiquetados y no etiquetados\n",
    "El grafo contiene información útil relativa a la arista como el nombre, peso, coste o un valor de cualquier tipo de datos dado. P. e. Tiempo que tarda un vuelo entre dos ciudades. \n",
    "\n",
    "En el caso contrario, las aristas no tienen información extra.\n"
   ]
  },
  {
   "cell_type": "markdown",
   "metadata": {},
   "source": [
    "# Representación de grafos"
   ]
  },
  {
   "cell_type": "markdown",
   "metadata": {},
   "source": [
    "<table>\n",
    "<tr>\n",
    "    <td> <img src=\"diagrama_matriz.png\" width=\"250\"> </td>\n",
    "    <td> <img src=\"matrices.png\" width=\"300\">  </td>\n",
    "</tr>\n",
    "</table>    \n",
    "\n",
    "\n",
    "<table>\n",
    "  <tr>\n",
    "     <td> \n",
    "<p style=\"color:blue\";>A = Matriz de adyacencia</p>\n",
    "\n",
    "Matriz formado por los n vértices\n",
    "\n",
    "1 - si hay una arista entre el vértice i y j\n",
    "\n",
    "0 en caso contrario </td>  \n",
    "  \n",
    "  \n",
    "<td>  \n",
    "<p style=\"color:blue\";>M = Matriz de incidencia</p>\n",
    "\n",
    "\n",
    "Matriz de vértices y aristas\n",
    "\n",
    "1 - conectado\n",
    "\n",
    "0 - no conectado    </td>  \n",
    "    \n",
    "  </tr>\n",
    "</table>    \n",
    "\n",
    "\n"
   ]
  },
  {
   "cell_type": "markdown",
   "metadata": {},
   "source": [
    "<h3 style=\"color:purple\";> Ejercicio: Obtenga la matriz de adyacencia para el siguiente grafo.</h3>\n",
    "\n",
    "<img src=\"ejercicio_adyacencia.png\" width=\"300\">\n",
    "\n"
   ]
  },
  {
   "cell_type": "markdown",
   "metadata": {},
   "source": [
    "# Introducción a redes neuronales de grafos (GNNs)"
   ]
  },
  {
   "cell_type": "markdown",
   "metadata": {},
   "source": [
    "-Concepto de nodo embebido: mapear los nodos a un espacio embebido de dimensión d (un espacio de menor dimensión que el del grafo)\n",
    "\n",
    "-**Objetivo: mapear los nodos de tal forma que la similitud en el espacio embebido se aproxime a la similitud en la red neuronal.**\n",
    "\n",
    "<img src=\"similarity-function.png\" width=\"500\"> \n",
    "\n",
    "<p style=\"color:blue\";> Reto: ¿Qué forma tiene la función codificadora?</p>\n",
    "\n",
    "\n",
    "**Función codificadora**\n",
    "\n",
    "<ul>\n",
    "    <li>Local (vecinos en la red local)</li>\n",
    "    <li>Información agregada</li>\n",
    "    <li>Apilar varias capas (computación)</li>\n",
    "</ul>    \n",
    "\n",
    "<img src=\"Neighborhood-exploration.png\" width=\"500\">\n",
    "\n"
   ]
  },
  {
   "cell_type": "markdown",
   "metadata": {},
   "source": [
    "Agregar información -> Redes neuronales\n",
    "\n",
    "\n",
    "<img src=\"Neural-networks-1.png\" width=\"500\">\n",
    "\n",
    "\n",
    "Las redes neuronales, presentadas en gris, requieren funciones invariantes en el orden como: la suma, el promedio los máximos, entre otras.\n"
   ]
  },
  {
   "cell_type": "markdown",
   "metadata": {},
   "source": [
    "### Referencias\n",
    "\n",
    "1) Robin J Wilson. 1986. Introduction to graph theory. John Wiley & Sons, Inc., USA.\n",
    "\n",
    "2) Amal Menzli. Graph Neural Network and Some of GNN Applications – Everything You Need to Know. https://neptune.ai/blog/graph-neural-network-and-some-of-gnn-applications"
   ]
  }
 ],
 "metadata": {
  "kernelspec": {
   "display_name": "my-rdkit-env",
   "language": "python",
   "name": "my-rdkit-env"
  },
  "language_info": {
   "codemirror_mode": {
    "name": "ipython",
    "version": 3
   },
   "file_extension": ".py",
   "mimetype": "text/x-python",
   "name": "python",
   "nbconvert_exporter": "python",
   "pygments_lexer": "ipython3",
   "version": "3.7.10"
  }
 },
 "nbformat": 4,
 "nbformat_minor": 2
}
